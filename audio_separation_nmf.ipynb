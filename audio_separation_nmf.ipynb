{
 "cells": [
  {
   "cell_type": "code",
   "execution_count": null,
   "metadata": {},
   "outputs": [],
   "source": [
    "from sklearn.decomposition import NMF\n",
    "from sklearn.cluster import SpectralClustering\n",
    "import librosa\n",
    "import IPython.display\n",
    "import matplotlib.pyplot as plt\n",
    "from matplotlib.pyplot import imshow\n",
    "import numpy as np\n",
    "import scipy\n",
    "import pandas as pd\n",
    "import seaborn as sns\n",
    "from sklearn.metrics.pairwise import cosine_similarity\n",
    "\n",
    "import librosa.display\n",
    "\n",
    "%matplotlib nbagg"
   ]
  },
  {
   "cell_type": "code",
   "execution_count": null,
   "metadata": {},
   "outputs": [],
   "source": [
    "import warnings\n",
    "warnings.filterwarnings('ignore')"
   ]
  },
  {
   "cell_type": "code",
   "execution_count": null,
   "metadata": {},
   "outputs": [],
   "source": [
    "x1, fs = librosa.load('conga.wav')"
   ]
  },
  {
   "cell_type": "code",
   "execution_count": null,
   "metadata": {},
   "outputs": [],
   "source": [
    "IPython.display.Audio(x1,rate=fs)"
   ]
  },
  {
   "cell_type": "code",
   "execution_count": null,
   "metadata": {},
   "outputs": [],
   "source": [
    "x2, fs = librosa.load('electric_guitar.wav')"
   ]
  },
  {
   "cell_type": "code",
   "execution_count": null,
   "metadata": {},
   "outputs": [],
   "source": [
    "x1.shape, x2.shape"
   ]
  },
  {
   "cell_type": "code",
   "execution_count": null,
   "metadata": {},
   "outputs": [],
   "source": [
    "x2 = x2[:x1.shape[0]]\n",
    "IPython.display.Audio(x2, rate=fs)"
   ]
  },
  {
   "cell_type": "code",
   "execution_count": null,
   "metadata": {},
   "outputs": [],
   "source": [
    "x3 = 0.4 * x1 + 0.2 * x2\n",
    "IPython.display.Audio(x3, rate=fs)"
   ]
  },
  {
   "cell_type": "code",
   "execution_count": null,
   "metadata": {},
   "outputs": [],
   "source": [
    "S = librosa.stft(x3)\n",
    "X = np.absolute(S)\n",
    "plt.figure()\n",
    "logX = librosa.core.amplitude_to_db(S)\n",
    "librosa.display.specshow(logX, sr=fs, x_axis='time', y_axis='log')"
   ]
  },
  {
   "cell_type": "markdown",
   "metadata": {},
   "source": [
    "## NMF"
   ]
  },
  {
   "cell_type": "code",
   "execution_count": null,
   "metadata": {},
   "outputs": [],
   "source": [
    "def logSRR(S, R):\n",
    "    return 20 * np.log(\n",
    "        (np.sqrt(np.mean(S**2))) / (np.sqrt(np.mean(R**2)))\n",
    "    )"
   ]
  },
  {
   "cell_type": "code",
   "execution_count": null,
   "metadata": {},
   "outputs": [],
   "source": [
    "scree_plot_data = []\n",
    "\n",
    "for i in range(2, 21):\n",
    "        nmf_ = NMF(n_components=i,\n",
    "                             solver = 'cd', verbose = 0)\n",
    "        W, H = librosa.decompose.decompose(X,\n",
    "                                           n_components=i,\n",
    "                                           transformer=nmf_,\n",
    "                                           sort=True)\n",
    "        scree_plot_data.append((i, logSRR(X, np.matmul(W, H))))\n",
    "\n",
    "        \n",
    "scree_plot_data = pd.DataFrame(scree_plot_data)\n",
    "scree_plot_data.columns = ['n_components', 'logSRR']"
   ]
  },
  {
   "cell_type": "code",
   "execution_count": null,
   "metadata": {},
   "outputs": [],
   "source": [
    "plt.figure()\n",
    "sns.lineplot(x='n_components', y='logSRR', data=scree_plot_data, )"
   ]
  },
  {
   "cell_type": "code",
   "execution_count": null,
   "metadata": {},
   "outputs": [],
   "source": [
    "n_components = 5\n",
    "nmf_decomposer = NMF(n_components=n_components,\n",
    "                     solver = 'cd', verbose = 0, random_state=123)"
   ]
  },
  {
   "cell_type": "code",
   "execution_count": null,
   "metadata": {},
   "outputs": [],
   "source": [
    "W, H = librosa.decompose.decompose(X,\n",
    "                                   n_components=n_components,\n",
    "                                   transformer=nmf_decomposer,\n",
    "                                   sort=True)"
   ]
  },
  {
   "cell_type": "code",
   "execution_count": null,
   "metadata": {},
   "outputs": [],
   "source": [
    "X.shape, W.shape, H.shape"
   ]
  },
  {
   "cell_type": "code",
   "execution_count": null,
   "metadata": {},
   "outputs": [],
   "source": [
    "plt.figure(figsize=(8, 8))\n",
    "logW = np.log10(W)\n",
    "for n in range(n_components):\n",
    "    plt.subplot(np.ceil(n_components/2.0), 2, n+1)\n",
    "    plt.plot(logW[:,n])\n",
    "    plt.ylim(-2, logW.max())\n",
    "    plt.xlim(0, W.shape[0])\n",
    "    plt.ylabel('Component %d' % n)"
   ]
  },
  {
   "cell_type": "code",
   "execution_count": null,
   "metadata": {},
   "outputs": [],
   "source": [
    "plt.figure(figsize=(8, 10))\n",
    "for n in range(n_components):\n",
    "    plt.subplot(np.ceil(n_components), 1, n+1)\n",
    "    plt.plot(H[n])\n",
    "    plt.ylim(0, H.max())\n",
    "    plt.xlim(0, H.shape[1])\n",
    "    plt.ylabel('Component %d' % n)"
   ]
  },
  {
   "cell_type": "code",
   "execution_count": null,
   "metadata": {},
   "outputs": [],
   "source": [
    "reconstructed_signal = scipy.zeros(len(x3))\n",
    "components = list()\n",
    "for n in range(n_components):\n",
    "    Y = scipy.outer(W[:,n], H[n])*np.exp(1j*np.angle(S))\n",
    "    y = librosa.istft(Y)\n",
    "    components.append(y)\n",
    "    reconstructed_signal[:len(y)] += y\n",
    "    IPython.display.display( IPython.display.Audio(y, rate=fs) )"
   ]
  },
  {
   "cell_type": "markdown",
   "metadata": {},
   "source": [
    "### Reconstructed Signal"
   ]
  },
  {
   "cell_type": "code",
   "execution_count": null,
   "metadata": {},
   "outputs": [],
   "source": [
    "IPython.display.display( IPython.display.Audio(reconstructed_signal, rate=fs) )"
   ]
  },
  {
   "cell_type": "markdown",
   "metadata": {},
   "source": [
    "### Conga Source"
   ]
  },
  {
   "cell_type": "code",
   "execution_count": null,
   "metadata": {},
   "outputs": [],
   "source": [
    "IPython.display.Audio(components[0] + components[2], rate=fs)"
   ]
  },
  {
   "cell_type": "markdown",
   "metadata": {},
   "source": [
    "### Electric Guitar Source"
   ]
  },
  {
   "cell_type": "code",
   "execution_count": null,
   "metadata": {},
   "outputs": [],
   "source": [
    "IPython.display.Audio(components[1] + components[3], rate=fs)"
   ]
  },
  {
   "cell_type": "markdown",
   "metadata": {},
   "source": [
    "### Noisy Component"
   ]
  },
  {
   "cell_type": "code",
   "execution_count": null,
   "metadata": {},
   "outputs": [],
   "source": [
    "IPython.display.Audio(components[4], rate=fs)"
   ]
  },
  {
   "cell_type": "code",
   "execution_count": null,
   "metadata": {},
   "outputs": [],
   "source": [
    "imshow(cosine_similarity(components))"
   ]
  },
  {
   "cell_type": "code",
   "execution_count": null,
   "metadata": {},
   "outputs": [],
   "source": []
  }
 ],
 "metadata": {
  "kernelspec": {
   "display_name": "Python 3",
   "language": "python",
   "name": "python3"
  },
  "language_info": {
   "codemirror_mode": {
    "name": "ipython",
    "version": 3
   },
   "file_extension": ".py",
   "mimetype": "text/x-python",
   "name": "python",
   "nbconvert_exporter": "python",
   "pygments_lexer": "ipython3",
   "version": "3.7.0"
  }
 },
 "nbformat": 4,
 "nbformat_minor": 2
}
